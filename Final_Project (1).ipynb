{
  "nbformat": 4,
  "nbformat_minor": 0,
  "metadata": {
    "colab": {
      "provenance": [],
      "gpuType": "T4"
    },
    "kernelspec": {
      "name": "python3",
      "display_name": "Python 3"
    },
    "language_info": {
      "name": "python"
    },
    "accelerator": "GPU"
  },
  "cells": [
    {
      "cell_type": "markdown",
      "source": [
        "# ArtVoice Tour Description\n",
        "\n",
        "This program creates a virtual art museum where users can:\n",
        "\n",
        "1. **Search by Image**: The program compares the uploaded image to a database of famous artworks using the CLIP model and returns the most similar artwork with a description and audio narration. Users can choose between English and Arabic for the narration.\n",
        "\n",
        "2. **Search by Description**: Users can enter a text description (in English or Arabic) to find a similar artwork based on semantic similarity. The program displays the matching artwork along with a narrated story in the input language.[link text](https://)\n",
        "\n",
        "Key features include image comparison, text-to-speech narration, and automatic translation between English and Arabic, all through a user-friendly interface powered by Gradio.\n"
      ],
      "metadata": {
        "id": "WAtO_v2duH-P"
      }
    },
    {
      "cell_type": "markdown",
      "source": [
        "# Example Instructions\n",
        "\n",
        "To help you try out the virtual art museum, follow these steps:\n",
        "\n",
        "### 1. **Image Search Example**\n",
        "   1. Click on the \"Image Search\" tab.\n",
        "   2. Upload an image of a famous painting (e.g., Vincent van Gogh's *Starry Night* or Leonardo da Vinci's *Mona Lisa*).\n",
        "   3. Select your preferred language (English or Arabic) for the narration.\n",
        "   4. Click the \"Search\" button.\n",
        "   5. The program will:\n",
        "      - Display the closest matching artwork from the database.\n",
        "      - Provide the story behind the painting as text in the selected language.\n",
        "      - Play the audio narration of the story.\n",
        "\n",
        "### 2. **Description Search Example**\n",
        "   1. Click on the \"Description Search\" tab.\n",
        "   2. Enter a description of a famous artwork. Examples:\n",
        "      - **English**: \"A swirling night sky over a small town.\"\n",
        "      - **Arabic**: \"امرأة بابتسامة غامضة.\"\n",
        "   3. Click the \"Search\" button.\n",
        "   4. The program will:\n",
        "      - Display the artwork that best matches your description.\n",
        "      - Provide the story behind the artwork as text in the input language.\n",
        "      - Play the audio narration of the story.\n",
        "\n",
        "Feel free to experiment with different images and descriptions to explore the features of the virtual art museum!"
      ],
      "metadata": {
        "id": "zBruQaEh5P6A"
      }
    },
    {
      "cell_type": "code",
      "source": [
        "#installs\n",
        "!pip install gradio transformers sentence-transformers gtts requests pillow langdetect torch inflect phonemizer soundfile numpy\n",
        "!sudo apt-get update\n",
        "!sudo apt-get install espeak-ng"
      ],
      "metadata": {
        "id": "ATMnncf8jMuu"
      },
      "execution_count": null,
      "outputs": []
    },
    {
      "cell_type": "code",
      "source": [
        "# Imports required libraries and modules\n",
        "import gradio as gr\n",
        "from PIL import Image, UnidentifiedImageError\n",
        "from gtts import gTTS\n",
        "import requests\n",
        "import re\n",
        "import torch\n",
        "from transformers import CLIPProcessor, CLIPModel, pipeline\n",
        "from sentence_transformers import SentenceTransformer, util\n",
        "from langdetect import detect\n",
        "from io import BytesIO\n",
        "import pandas as pd\n",
        "import numpy as np\n",
        "import soundfile as sf"
      ],
      "metadata": {
        "id": "q8dKjZYhi66G"
      },
      "execution_count": null,
      "outputs": []
    },
    {
      "cell_type": "code",
      "source": [
        "#Here is some code that suppresses warning messages.\n",
        "from transformers.utils import logging\n",
        "logging.set_verbosity_error()"
      ],
      "metadata": {
        "id": "4GXBGr6c2-KR"
      },
      "execution_count": null,
      "outputs": []
    },
    {
      "cell_type": "code",
      "source": [
        "# DataFrame with information about the Paintings as image url, Title, description , stroy\n",
        "\n",
        "data = {\n",
        "    \"image_url\": [\n",
        "        \"https://sites.harding.edu/gclayton/2DDesign/Crits/images/VanGogh_StarryNight01m.jpg\",  # Starry Night\n",
        "        \"https://cdn.mos.cms.futurecdn.net/xRqbwS4odpkSQscn3jHECh-1200-80.jpg\",      # Mona Lisa\n",
        "        \"https://upload.wikimedia.org/wikipedia/en/d/dd/The_Persistence_of_Memory.jpg\",  # The Persistence of Memory\n",
        "        \"https://static.wixstatic.com/media/1071a8_cf1930f883e043e28d03d5a26a5960ef~mv2.jpg/v1/fill/w_568,h_718,al_c,q_85,usm_0.66_1.00_0.01,enc_auto/1071a8_cf1930f883e043e28d03d5a26a5960ef~mv2.jpg\",             # The Scream\n",
        "        \"https://images.artbrokerage.com/artthumb/magritte_158194_1/625x559/Rene_Magritte_Le_Fils_De_lhomme_the_Son_of_Man_1973.jpg\",   # The Son of Man\n",
        "        \"https://www.artic.edu/iiif/2/25c31d8d-21a4-9ea1-1d73-6a2eca4dda7e/full/843,/0/default.jpg\",                         # The Bedroom\n",
        "        \"https://images.desenio.com/zoom/17047_1.jpg\",  # Girl with a Pearl Earring\n",
        "        \"https://www.hastingsindependentpress.co.uk/wp-content/uploads/2021/03/Whistlers-Mother.jpg\",        # Whistler’s Mother\n",
        "        \"https://live.staticflickr.com/7173/6713746433_652c3d9d4e_c.jpg\"            # The Basket of Apples\n",
        "    ],\n",
        "    \"Title\": [\n",
        "        \"Starry Night\", \"Mona Lisa\", \"The Persistence of Memory\", \"The Scream\",\n",
        "         \"The Son of Man\", \"The Bedroom\",\n",
        "        \"Girl with a Pearl Earring\", \"Whistler’s Mother\", \"The Basket of Apples\"\n",
        "    ],\n",
        "    \"Description\": [\n",
        "        # Starry Night\n",
        "        (\"Starry Night by Vincent van Gogh, painted in 1889, is one of the most famous works of art in the world. \"\n",
        "         \"It depicts a swirling night sky filled with stars over a small town. The painting uses vibrant colors like blue and yellow, \"\n",
        "         \"with exaggerated swirling patterns that create a dreamlike, almost chaotic feeling.\"),\n",
        "\n",
        "        # Mona Lisa\n",
        "        (\"The Mona Lisa by Leonardo da Vinci, painted between 1503 and 1506, is a portrait of a woman with a subtle, enigmatic smile. \"\n",
        "         \"The use of muted colors, including soft browns, greens, and black, emphasizes the serene and mysterious nature of the subject. \"\n",
        "         \"It is one of the most studied and recognized works of art in history.\"),\n",
        "\n",
        "        # The Persistence of Memory\n",
        "        (\"The Persistence of Memory, created by Salvador Dalí in 1931, features melting clocks draped over a surreal landscape. \"\n",
        "         \"The painting, primarily in soft shades of brown, blue, and yellow, explores themes of time and memory. The abstract shapes \"\n",
        "         \"and dreamlike atmosphere make it one of Dalí’s most famous surrealist works.\"),\n",
        "\n",
        "        # The Scream\n",
        "        (\"The Scream by Edvard Munch, painted in 1893, is one of the most iconic images in modern art. \"\n",
        "         \"It depicts a figure standing on a bridge, clutching their face in agony, as a blood-red sky swirls behind them. \"\n",
        "         \"The painting uses bold reds, oranges, and blues to evoke a sense of horror and existential despair.\"),\n",
        "\n",
        "        # The Son of Man\n",
        "        (\"The Son of Man by René Magritte, painted in 1964, is a surrealist self-portrait of the artist. \"\n",
        "         \"It depicts a man in a bowler hat and suit, with his face obscured by a floating green apple. \"\n",
        "         \"The background features a cloudy sky and a low wall, contributing to the dreamlike atmosphere. The painting is rich in symbolism, \"\n",
        "         \"exploring themes of identity, concealment, and perception.\"),\n",
        "\n",
        "        # The Bedroom\n",
        "        (\"The Bedroom by Vincent van Gogh, painted in 1888, depicts the artist’s simple bedroom in Arles, France. \"\n",
        "         \"The painting uses bold, contrasting colors—yellow, red, and blue—to create a vibrant, almost childlike view of the space. \"\n",
        "         \"Van Gogh painted this scene three times, each version representing his sense of comfort and sanctuary in his personal space.\"),\n",
        "\n",
        "        # Girl with a Pearl Earring\n",
        "        (\"Girl with a Pearl Earring by Johannes Vermeer, painted in 1665, is often referred to as the 'Mona Lisa of the North.' \"\n",
        "         \"The painting shows a young girl looking over her shoulder, wearing a large pearl earring. The use of light and shadow, \"\n",
        "         \"combined with soft colors like blue and yellow, creates a lifelike, intimate portrait.\"),\n",
        "\n",
        "        # Whistler’s Mother\n",
        "        (\"Whistler’s Mother by James McNeill Whistler, painted in 1871, is a portrait of the artist’s mother seated in profile. \"\n",
        "         \"The painting uses muted tones of black, gray, and brown, reflecting the simplicity and dignity of the subject. \"\n",
        "         \"It has become an icon of motherhood and restraint.\"),\n",
        "\n",
        "        # The Basket of Apples\n",
        "        (\"The Basket of Apples by Paul Cézanne, painted around 1895, is a still life that challenges traditional perspectives. \"\n",
        "         \"The painting shows a table with a basket of apples, a bottle, and bread. The use of soft colors, including browns, reds, and greens, \"\n",
        "         \"along with the tilted angles, makes the objects seem to float, blurring the line between realism and abstraction.\")\n",
        "    ],\n",
        "    \"Story\": [\n",
        "        # Starry Night\n",
        "        (\"Vincent van Gogh painted 'Starry Night' while in a mental asylum in Saint-Rémy-de-Provence, France. \"\n",
        "         \"It was created from memory and imagination, rather than a direct view from his window. The swirling patterns \"\n",
        "         \"are thought to represent his emotional turbulence at the time. The painting is celebrated for its bold brushstrokes \"\n",
        "         \"and imaginative use of color, representing the tension between beauty and chaos in the natural world.\"),\n",
        "\n",
        "        # Mona Lisa\n",
        "        (\"'Mona Lisa' was painted by Leonardo da Vinci during the Renaissance period. The subject of the painting, \"\n",
        "         \"believed to be Lisa Gherardini, is famed for her mysterious smile. The painting's sfumato technique, blending \"\n",
        "         \"soft transitions between light and shadow, creates a lifelike, three-dimensional appearance. The Mona Lisa has inspired \"\n",
        "         \"countless studies and interpretations over the centuries, and its theft in 1911 only increased its mystique.\"),\n",
        "\n",
        "        # The Persistence of Memory\n",
        "        (\"Salvador Dalí's 'The Persistence of Memory' is a surrealist masterpiece that reflects the fluidity of time and memory. \"\n",
        "         \"The melting clocks draped over the landscape suggest the passage of time becoming meaningless. The inspiration for the painting \"\n",
        "         \"came from a melting camembert cheese. Dalí’s fascination with dream states and Freud's theories of the unconscious mind \"\n",
        "         \"are evident in this strange, dreamlike scene.\"),\n",
        "\n",
        "        # The Scream\n",
        "        (\"'The Scream' by Edvard Munch is a vivid expression of anxiety and existential dread. Munch was inspired to create the work \"\n",
        "         \"after a walk during which he felt the 'great scream' of nature overwhelm him. The distorted figure and fiery red sky reflect \"\n",
        "         \"Munch’s inner turmoil. The painting has become an iconic representation of human anxiety and has been widely referenced in pop culture.\"),\n",
        "\n",
        "        # The Son of Man\n",
        "        (\"René Magritte’s 'The Son of Man' is a quintessential example of surrealism, blending reality and fantasy. \"\n",
        "         \"The painting is a self-portrait with Magritte’s face hidden by a hovering green apple, symbolizing the tension between what is visible \"\n",
        "         \"and what is hidden. The painting has been widely interpreted as a statement on identity and the nature of perception.\"),\n",
        "\n",
        "        # The Bedroom\n",
        "        (\"'The Bedroom' by Vincent van Gogh is a reflection of the artist’s longing for stability and tranquility. \"\n",
        "         \"The painting was created during one of the few peaceful periods in van Gogh’s turbulent life, and the vibrant colors convey \"\n",
        "         \"his emotions at the time. The bold, contrasting colors and exaggerated perspective make the simple room appear almost alive.\"),\n",
        "\n",
        "        # Girl with a Pearl Earring\n",
        "        (\"'Girl with a Pearl Earring' by Johannes Vermeer is one of the most enigmatic portraits in Western art. Known for its simplicity and elegance, \"\n",
        "         \"the painting captures a fleeting moment of connection between the viewer and the subject. The girl’s mysterious gaze and the radiant light \"\n",
        "         \"on her face have captivated audiences for centuries.\"),\n",
        "\n",
        "        # Whistler’s Mother\n",
        "        (\"James McNeill Whistler’s 'Arrangement in Grey and Black No. 1,' more commonly known as 'Whistler’s Mother,' is a stark, dignified portrait \"\n",
        "         \"of the artist’s mother. The painting is renowned for its minimalist composition and restrained use of color. Its iconic status grew after \"\n",
        "         \"its display at the Musée d'Orsay in Paris, becoming a symbol of maternal devotion and calm.\"),\n",
        "\n",
        "        # The Basket of Apples\n",
        "        (\"Paul Cézanne’s 'The Basket of Apples' is a revolutionary work that defies the traditional rules of perspective. By tilting objects at different angles, \"\n",
        "         \"Cézanne challenges the viewer’s perception of space and reality. This still life is often cited as a precursor to Cubism, and its soft color palette \"\n",
        "         \"creates a serene yet dynamic composition.\")\n",
        "    ]\n",
        "}\n",
        "\n",
        "\n",
        "df = pd.DataFrame(data)\n"
      ],
      "metadata": {
        "id": "LhjGICSMpJ_n"
      },
      "execution_count": 50,
      "outputs": []
    },
    {
      "cell_type": "code",
      "source": [
        "# Load Models\n",
        "# Determine if a GPU (CUDA) is available\n",
        "device = \"cuda\" if torch.cuda.is_available() else \"cpu\"\n",
        "\n",
        "#  English Text-to-speech model\n",
        "narrator = pipeline(\"text-to-speech\", model=\"kakao-enterprise/vits-ljs\", device=device)\n",
        "\n",
        "# CLIP model and processor to get Embeddings of images\n",
        "model = CLIPModel.from_pretrained(\"openai/clip-vit-base-patch32\").to(device)\n",
        "processor = CLIPProcessor.from_pretrained(\"openai/clip-vit-base-patch32\")\n",
        "\n",
        "# semantic similarity model for description search\n",
        "semantic_model = SentenceTransformer('sentence-transformers/all-MiniLM-L6-v2', device=device)\n",
        "\n",
        "# translation models for Arabic to English and English to Arabic translations\n",
        "translator_ar_to_en = pipeline(\"translation_ar_to_en\", model=\"Helsinki-NLP/opus-mt-ar-en\", device=0 if device == \"cuda\" else -1)\n",
        "translator_en_to_ar = pipeline(\"translation_en_to_arabic\", model=\"Helsinki-NLP/opus-mt-en-ar\", device=0 if device == \"cuda\" else -1)\n"
      ],
      "metadata": {
        "id": "7nHZuSt3CvLC"
      },
      "execution_count": null,
      "outputs": []
    },
    {
      "cell_type": "code",
      "source": [
        "# Function to check if the image URL is valid and fetches the image\n",
        "def fetch_image_from_url(url):\n",
        "    try:\n",
        "        response = requests.get(url, stream=True) # Make an HTTP GET request to fetch the image\n",
        "        response.raise_for_status()  # Check if the request was successful\n",
        "        return Image.open(BytesIO(response.content))  # Return the image if valid\n",
        "    except Exception as e:\n",
        "        print(f\"Error fetching image from {url}: {str(e)}\")\n",
        "        return None"
      ],
      "metadata": {
        "id": "_U0WPA_gp5vg"
      },
      "execution_count": null,
      "outputs": []
    },
    {
      "cell_type": "code",
      "source": [
        "# Function to translate the full story in chunks (to avoid translation limits)\n",
        "def translate_story_to_arabic(story_text):\n",
        "    sentences = re.split(r'(?<=[.!؟])\\s+', story_text) # ٍSplit the story to list of sentences to translate\n",
        "    translated_sentences = []\n",
        "\n",
        "    for sentence in sentences: # For each sentence translate to arabic and append to the list\n",
        "      translation = translator_en_to_ar(sentence)[0]['translation_text']\n",
        "      translated_sentences.append(translation)\n",
        "\n",
        "    return ' '.join(translated_sentences) # Return the translated sentences list elements as one String"
      ],
      "metadata": {
        "id": "ikL44Ko7p2rs"
      },
      "execution_count": null,
      "outputs": []
    },
    {
      "cell_type": "code",
      "source": [
        "# Function to Convert the text to Speech in Ensglish\n",
        "def text_to_speech_english(story_text):\n",
        "\n",
        "    audio_output = narrator(story_text)\n",
        "\n",
        "    # Extract audio and sampling rate from the output\n",
        "    audio = np.squeeze(audio_output['audio'])\n",
        "    sampling_rate = audio_output['sampling_rate']\n",
        "\n",
        "    # Save the output as a WAV file using soundfile\n",
        "    sf.write(\"story_english.wav\", audio, sampling_rate)\n",
        "\n",
        "    return \"story_english.wav\""
      ],
      "metadata": {
        "id": "8t2MXOcadJD0"
      },
      "execution_count": null,
      "outputs": []
    },
    {
      "cell_type": "code",
      "source": [
        "# Function to Convert the text to Speech in Arabic using gTTS\n",
        "def text_to_speech_arabic(story_text):\n",
        "    tts = gTTS(text=story_text, lang='ar')\n",
        "    tts.save(\"story_arabic.mp3\")\n",
        "    return \"story_arabic.mp3\""
      ],
      "metadata": {
        "id": "4UeZCA82p0w-"
      },
      "execution_count": null,
      "outputs": []
    },
    {
      "cell_type": "code",
      "source": [
        "# Process the result where result is shown base on selected language\n",
        "def process_best_match(best_match, language):\n",
        "    best_image_url = best_match[\"image_url\"]\n",
        "    best_story = best_match[\"Story\"]\n",
        "\n",
        "\n",
        "    # Translate to Arabic if the language is Arabic\n",
        "    if language == \"Arabic\" or language == \"ar\":\n",
        "        best_story_translated = translate_story_to_arabic(best_story)\n",
        "        info_html = f\"<div dir='rtl' style='font-size: 18px; color: white; font-family: Arial, sans-serif;'>{best_story_translated}</div>\"\n",
        "        audio_file = text_to_speech_arabic(best_story_translated)\n",
        "        return best_image_url, info_html, audio_file\n",
        "\n",
        "    # Otherwise, use English\n",
        "    info_html = f\"<div style='font-size: 18px; color: white;'>{best_story}</div>\"\n",
        "    audio_file = text_to_speech_english(best_story)\n",
        "    return best_image_url, info_html, audio_file\n"
      ],
      "metadata": {
        "id": "1x_sm0p1sXRX"
      },
      "execution_count": 42,
      "outputs": []
    },
    {
      "cell_type": "code",
      "source": [
        "# Function to match the uploaded image with the DataFrame to retrive the image of painting from the Datafram and it story in text and audio\n",
        "def compare_images(image, language):\n",
        "    try:\n",
        "\n",
        "        inputs = processor(images=image, return_tensors=\"pt\")\n",
        "        inputs = {k: v.to(device) for k, v in inputs.items()}\n",
        "        image_features = model.get_image_features(**inputs).to(device)\n",
        "\n",
        "        best_score = -2.0  # Initial best score\n",
        "        best_match_idx = None  # Initial index of the best match\n",
        "\n",
        "        for idx, image_url in enumerate(df['image_url']):\n",
        "            db_image = fetch_image_from_url(image_url)\n",
        "            if db_image is None:\n",
        "                continue\n",
        "\n",
        "            db_inputs = processor(images=db_image, return_tensors=\"pt\")\n",
        "            db_inputs = {k: v.to(device) for k, v in db_inputs.items()}  # Move dataset inputs to the device\n",
        "            db_image_features = model.get_image_features(**db_inputs).to(device)  # Ensure dataset image features are on the correct device\n",
        "\n",
        "            similarity = torch.nn.functional.cosine_similarity(image_features, db_image_features).item()\n",
        "\n",
        "            if similarity > best_score:\n",
        "                best_score = similarity\n",
        "                best_match_idx = idx\n",
        "\n",
        "        if best_match_idx is None:\n",
        "            return None, \"Error: No valid image match found in the database.\", None\n",
        "\n",
        "\n",
        "        best_match = df.iloc[best_match_idx]\n",
        "        return process_best_match(best_match, language)\n",
        "\n",
        "    except UnidentifiedImageError:\n",
        "        return None, \"Error: The uploaded file is not a valid image.\", None\n",
        "    except Exception as e:\n",
        "        return None, f\"Error: {str(e)}\", None"
      ],
      "metadata": {
        "id": "0En1F5PJrnld"
      },
      "execution_count": null,
      "outputs": []
    },
    {
      "cell_type": "code",
      "source": [
        "# Function to compare user input with descriptions in the DataFrame and return the best match Painting as image of painting with text and audio story of painting\n",
        "def compare_description(input_text):\n",
        "    global best_match_idx, best_match\n",
        "    try:\n",
        "        language = detect(input_text) #detect the langauge of input\n",
        "        if language == 'ar':\n",
        "            input_text = translator_ar_to_en(input_text)[0]['translation_text']\n",
        "\n",
        "        input_embedding = semantic_model.encode(input_text, convert_to_tensor=True)\n",
        "        df_embeddings = semantic_model.encode(df[\"Description\"].tolist(), convert_to_tensor=True)\n",
        "\n",
        "\n",
        "        similarities = util.pytorch_cos_sim(input_embedding, df_embeddings).squeeze() # Compute cosine similarities between input embedding and DataFrame description embeddings\n",
        "        best_match_idx = torch.argmax(similarities).item()\n",
        "        best_match = df.iloc[best_match_idx]\n",
        "\n",
        "        return process_best_match(best_match, language)\n",
        "\n",
        "    except Exception as e:\n",
        "        return None, f\"Error: {str(e)}\", None"
      ],
      "metadata": {
        "id": "GkQ9c-St41TP"
      },
      "execution_count": null,
      "outputs": []
    },
    {
      "cell_type": "code",
      "source": [
        "# Custom CSS for Styling the Gradio\n",
        "\n",
        "custom_css = \"\"\"\n",
        ".gradio-container {\n",
        "    background-image: url('https://images.squarespace-cdn.com/content/v1/587ee1eab3db2b428f68d221/1626734192415-LI75A3LVVFMJD5TVZ3HR/Gallery+2.jpg');\n",
        "    background-size: cover;\n",
        "    background-position: center;\n",
        "    background-repeat: no-repeat;\n",
        "    color: #333333;\n",
        "    font-family: 'Arial', sans-serif;\n",
        "}\n",
        "\n",
        "h1, #title, #description {\n",
        "    color: white !important;\n",
        "}\n",
        "\n",
        "#upload-text, #description-search-text {\n",
        "    color: white !important;\n",
        "}\n",
        "\n",
        "label, .gr-label {\n",
        "    color: #333333 !important;\n",
        "}\n",
        "\n",
        "button.primary {\n",
        "    background-color: #6A5ACD;\n",
        "    color: black;\n",
        "    border-radius: 10px;\n",
        "    padding: 10px;\n",
        "    margin: 5px;\n",
        "    font-size: 18px;\n",
        "    border: none;\n",
        "    transition: background-color 0.3s;\n",
        "}\n",
        "\n",
        "button.primary:hover {\n",
        "    background-color: #836FFF;\n",
        "}\n",
        "\n",
        "#image_output, #search_image_output {\n",
        "    border: 3px solid white;\n",
        "    border-radius: 10px;\n",
        "}\n",
        "\n",
        ".gr-examples button {\n",
        "    color: white !important;\n",
        "    background-color: transparent !important;\n",
        "    border: 1px solid white;\n",
        "}\n",
        "\"\"\""
      ],
      "metadata": {
        "id": "KYdOt6zEjwSy"
      },
      "execution_count": null,
      "outputs": []
    },
    {
      "cell_type": "code",
      "source": [
        "# Sample Examples for the \"Image Search\" tab\n",
        "image_upload_examples = [\n",
        "    [\"https://pbs.twimg.com/media/DgAnD-FUcAAr3NT?format=jpg\", \"English\"],\n",
        "    [\"https://pbs.twimg.com/media/DgAnD-FUcAAr3NT?format=jpg\", \"Arabic\"]\n",
        "]\n",
        "\n",
        "# Sample Examples for the \"Description Search\" tab\n",
        "description_search_examples = [\n",
        "    [\"Woman with a mysterious smile.\", \"English\"],\n",
        "    [\"امرأة بابتسامة غامضة.\", \"Arabic\"]\n",
        "]"
      ],
      "metadata": {
        "id": "xQgraU9y_xAm"
      },
      "execution_count": 46,
      "outputs": []
    },
    {
      "cell_type": "code",
      "source": [
        "'''\n",
        "Gradio interface with two tabs: \"Image Upload\" and \"Description Search\"\n",
        "Image Upload  tab to get the Painting story by uploding an image\n",
        "Description Search tab is by getting Painting stroy by descriping the painting\n",
        "'''\n",
        "with gr.Blocks(css=custom_css) as demo:\n",
        "    gr.Markdown(\"<h1 id='title'>Welcome to the Virtual Art Museum</h1>\")\n",
        "    gr.Markdown(\"<p id='description'>Explore the most famous artworks. Upload an image or enter a description to learn about the story behind each piece.</p>\")\n",
        "\n",
        "    with gr.Tab(\"Image Search\"):\n",
        "        gr.Markdown(\"<h2 id='upload-text'>Upload Art to Recognize and Hear the Story Behind It</h2>\")\n",
        "\n",
        "        image_input = gr.Image(type=\"pil\", label=\"Upload an image of an art piece\")\n",
        "        language_selector = gr.Radio(choices=[\"English\", \"Arabic\"], label=\"Select Language for Story Narration\", value=\"English\")\n",
        "        recognize_button = gr.Button(\"Search\")\n",
        "\n",
        "        image_output = gr.Image(label=\"Matched Art Piece\", elem_id=\"image_output\")\n",
        "        description_output = gr.HTML(label=\"Art Piece Information\")\n",
        "        audio_output = gr.Audio(label=\"Narration of the Story\")\n",
        "\n",
        "        recognize_button.click(compare_images, inputs=[image_input, language_selector], outputs=[image_output, description_output, audio_output])\n",
        "\n",
        "        gr.Examples(examples=image_upload_examples, inputs=[image_input, language_selector])\n",
        "    with gr.Tab(\"Description Search\"):\n",
        "        gr.Markdown(\"<h2 id='description-search-text'>Description Search</h2>\")\n",
        "\n",
        "        description_input = gr.Textbox(label=\"Enter a description (in English or Arabic)\")\n",
        "        search_button = gr.Button(\"Search\")\n",
        "\n",
        "        search_image_output = gr.Image(label=\"Matched Art Piece\", elem_id=\"search_image_output\")\n",
        "        search_description_output = gr.HTML(label=\"Art Piece Information\")\n",
        "        search_audio_output = gr.Audio(label=\"Narration of the Story\")\n",
        "\n",
        "        search_button.click(compare_description, inputs=description_input, outputs=[search_image_output, search_description_output, search_audio_output])\n",
        "\n",
        "        gr.Examples(examples=description_search_examples, inputs=description_input)\n",
        "\n",
        "demo.launch()"
      ],
      "metadata": {
        "colab": {
          "base_uri": "https://localhost:8080/",
          "height": 626
        },
        "id": "ri3Q61lFkMgu",
        "outputId": "879f69da-c576-4151-ac91-968bb1c3b888"
      },
      "execution_count": 51,
      "outputs": [
        {
          "output_type": "stream",
          "name": "stdout",
          "text": [
            "Setting queue=True in a Colab notebook requires sharing enabled. Setting `share=True` (you can turn this off by setting `share=False` in `launch()` explicitly).\n",
            "\n",
            "Colab notebook detected. To show errors in colab notebook, set debug=True in launch()\n",
            "Running on public URL: https://e4978fc410d8b08a48.gradio.live\n",
            "\n",
            "This share link expires in 72 hours. For free permanent hosting and GPU upgrades, run `gradio deploy` from Terminal to deploy to Spaces (https://huggingface.co/spaces)\n"
          ]
        },
        {
          "output_type": "display_data",
          "data": {
            "text/plain": [
              "<IPython.core.display.HTML object>"
            ],
            "text/html": [
              "<div><iframe src=\"https://e4978fc410d8b08a48.gradio.live\" width=\"100%\" height=\"500\" allow=\"autoplay; camera; microphone; clipboard-read; clipboard-write;\" frameborder=\"0\" allowfullscreen></iframe></div>"
            ]
          },
          "metadata": {}
        },
        {
          "output_type": "execute_result",
          "data": {
            "text/plain": []
          },
          "metadata": {},
          "execution_count": 51
        }
      ]
    }
  ]
}